{
 "cells": [
  {
   "attachments": {},
   "cell_type": "markdown",
   "id": "27b09e13",
   "metadata": {},
   "source": [
    "# Optimization of Algorithms problems"
   ]
  },
  {
   "attachments": {},
   "cell_type": "markdown",
   "id": "ed05e9bf",
   "metadata": {},
   "source": [
    "## Exercise 1\n",
    "### Code Optimization for Text Processing\n",
    "\n",
    "You are provided with a text processing code to perform the following operations:\n",
    "\n",
    "1. Convert all text to lowercase.\n",
    "2. Remove punctuation marks.\n",
    "3. Count the frequency of each word.\n",
    "4. Show the 5 most common words.\n",
    "\n",
    "The code works, but it is inefficient and can be optimized. Your task is to identify areas that can be improved and rewrite those parts to make the code more efficient and readable."
   ]
  },
  {
   "cell_type": "code",
   "execution_count": 1,
   "id": "feb30c3c",
   "metadata": {},
   "outputs": [],
   "source": [
    "# text to work\n",
    "text = \"\"\"\n",
    "    In the heart of the city, Emily discovered a quaint little café, hidden away from the bustling streets. \n",
    "    The aroma of freshly baked pastries wafted through the air, drawing in passersby. As she sipped on her latte, \n",
    "    she noticed an old bookshelf filled with classics, creating a cozy atmosphere that made her lose track of time.\n",
    "\"\"\""
   ]
  },
  {
   "cell_type": "code",
   "execution_count": 2,
   "id": "8467465b",
   "metadata": {},
   "outputs": [
    {
     "name": "stdout",
     "output_type": "stream",
     "text": [
      "'the': 5 times\n",
      "'of': 3 times\n",
      "'in': 2 times\n",
      "'a': 2 times\n",
      "'she': 2 times\n"
     ]
    }
   ],
   "source": [
    "import string\n",
    "\n",
    "def process_text(text):\n",
    "\t# Text to lowercase\n",
    "\ttext = text.lower()\n",
    "\n",
    "\t# Remove punctuation\n",
    "\tfor p in string.punctuation:\n",
    "\t\ttext = text.replace(p, \"\")\n",
    "\n",
    "\t# Split text into words\n",
    "\twords = text.split()\n",
    "\n",
    "\t# Count frequencies\n",
    "\tfrequencies = {}\n",
    "\tfor w in words:\n",
    "\t\tif w in frequencies:\n",
    "\t\t\tfrequencies[w] += 1\n",
    "\t\telse:\n",
    "\t\t\tfrequencies[w] = 1\n",
    "\n",
    "\tsorted_frequencies = sorted(frequencies.items(), key = lambda x: x[1], reverse = True)\n",
    "\n",
    "\t# Get 5 most-common words\n",
    "\ttop_5 = sorted_frequencies[:5]\n",
    "\t\n",
    "\tfor w, frequency in top_5:\n",
    "\t\tprint(f\"'{w}': {frequency} times\")\n",
    "\n",
    "\n",
    "process_text(text)"
   ]
  },
  {
   "cell_type": "markdown",
   "id": "29040779",
   "metadata": {},
   "source": [
    "Points to optimize:\n",
    "\n",
    "1. **Removal of punctuation marks**: Using `replace` in a loop can be inefficient, especially with long texts. Look for a more efficient way to remove punctuation marks.\n",
    "2. **Frequency count**: The code checks for the existence of each word in the dictionary and then updates its count. This can be done more efficiently with certain data structures in Python.\n",
    "3. **Sort and select:** Consider if there is a more direct or efficient way to get the 5 most frequent words without sorting all the words.\n",
    "4. **Modularity**: Break the code into smaller functions so that each one performs a specific task. This will not only optimize performance, but also make the code more readable and maintainable."
   ]
  },
  {
   "cell_type": "code",
   "execution_count": 3,
   "id": "57cd6641",
   "metadata": {},
   "outputs": [],
   "source": [
    "# libraries to use\n",
    "import re\n",
    "from collections import Counter\n",
    "from typing import Any\n",
    "\n",
    "# 4 Modularity\n",
    "def remove_punctuation_marks(text: str) -> str:\n",
    "\t\"\"\"\n",
    "\tRemoves punctuation marks from the text.\n",
    "\n",
    "\tArgs:\n",
    "\t\ttext: The input text string.\n",
    "\n",
    "\tReturns:\n",
    "\t\tThe text string without punctuations.\n",
    "\t\"\"\"\n",
    "\n",
    "\t# use regex to remove punctuation marks\n",
    "\treturn  re.sub(pattern=r'[^\\w\\s]', repl='', string=text)\n",
    "\n",
    "\n",
    "def count_frequency_of_words(text)-> Counter[Any]:\n",
    "\t\"\"\"\n",
    "\tGet the frequency of the words in a text.\n",
    "\n",
    "\tArgs:\n",
    "\t\ttext: The input text string.\n",
    "\n",
    "\tReturns:\n",
    "\t\tA counter, containing the word and its frequency.\n",
    "\t\"\"\"\n",
    "\n",
    "\t# split the text into words\n",
    "\twords = text.split()\n",
    "\n",
    "\t# count word frequencies using Counter\n",
    "\tword_counts = Counter(words)\n",
    "\n",
    "\treturn word_counts\n"
   ]
  },
  {
   "cell_type": "code",
   "execution_count": 4,
   "id": "2d322400",
   "metadata": {},
   "outputs": [
    {
     "name": "stdout",
     "output_type": "stream",
     "text": [
      "Text as lower case:\n",
      "\n",
      "    in the heart of the city, emily discovered a quaint little café, hidden away from the bustling streets. \n",
      "    the aroma of freshly baked pastries wafted through the air, drawing in passersby. as she sipped on her latte, \n",
      "    she noticed an old bookshelf filled with classics, creating a cozy atmosphere that made her lose track of time.\n",
      "\n",
      "\n",
      "Text without punctuation marks:\n",
      "\n",
      "    in the heart of the city emily discovered a quaint little café hidden away from the bustling streets \n",
      "    the aroma of freshly baked pastries wafted through the air drawing in passersby as she sipped on her latte \n",
      "    she noticed an old bookshelf filled with classics creating a cozy atmosphere that made her lose track of time\n",
      "\n",
      "\n",
      "Word frequency:\n",
      "Counter({'the': 5, 'of': 3, 'in': 2, 'a': 2, 'she': 2, 'her': 2, 'heart': 1, 'city': 1, 'emily': 1, 'discovered': 1, 'quaint': 1, 'little': 1, 'café': 1, 'hidden': 1, 'away': 1, 'from': 1, 'bustling': 1, 'streets': 1, 'aroma': 1, 'freshly': 1, 'baked': 1, 'pastries': 1, 'wafted': 1, 'through': 1, 'air': 1, 'drawing': 1, 'passersby': 1, 'as': 1, 'sipped': 1, 'on': 1, 'latte': 1, 'noticed': 1, 'an': 1, 'old': 1, 'bookshelf': 1, 'filled': 1, 'with': 1, 'classics': 1, 'creating': 1, 'cozy': 1, 'atmosphere': 1, 'that': 1, 'made': 1, 'lose': 1, 'track': 1, 'time': 1})\n",
      "\n",
      "The five most frequent words:\n",
      "[('the', 5), ('of', 3), ('in', 2), ('a', 2), ('she', 2)]\n"
     ]
    }
   ],
   "source": [
    "# set text to lowercase\n",
    "text: str = text.lower()\n",
    "print('Text as lower case:')\n",
    "print(text)\n",
    "\n",
    "# remove punctuation marks\n",
    "text: str = remove_punctuation_marks(text=text)\n",
    "print('\\nText without punctuation marks:')\n",
    "print(text)\n",
    "\n",
    "# count word frequencies\n",
    "word_frequency = count_frequency_of_words(text=text)\n",
    "print('\\nWord frequency:')\n",
    "print(word_frequency)\n",
    "\n",
    "print('\\nThe five most frequent words:')\n",
    "print(word_frequency.most_common(n=5))"
   ]
  },
  {
   "attachments": {},
   "cell_type": "markdown",
   "id": "011996bc",
   "metadata": {},
   "source": [
    "## Exercise 2\n",
    "### Code Optimization for List Processing\n",
    "\n",
    "You have been given a code that performs operations on a list of numbers for:\n",
    "\n",
    "1. Filter out even numbers.\n",
    "2. Duplicate each number.\n",
    "3. Add all numbers.\n",
    "4. Check if the result is a prime number.\n",
    "\n",
    "The code provided achieves its goal, but it may be inefficient. Your task is to identify and improve the parts of the code to increase its efficiency."
   ]
  },
  {
   "cell_type": "code",
   "execution_count": 5,
   "id": "b44244dd",
   "metadata": {},
   "outputs": [],
   "source": [
    "# list to process\n",
    "list_: 'list[int]' = [1, 2, 3, 4, 5, 6, 7, 8, 9, 10]"
   ]
  },
  {
   "cell_type": "code",
   "execution_count": 6,
   "id": "783d03a0",
   "metadata": {},
   "outputs": [
    {
     "name": "stdout",
     "output_type": "stream",
     "text": [
      "Result: 60, ¿Prime? No\n"
     ]
    }
   ],
   "source": [
    "import math\n",
    "\n",
    "def is_prime(n):\n",
    "\tif n <= 1:\n",
    "\t\treturn False\n",
    "\tfor i in range(2, int(math.sqrt(n)) + 1):\n",
    "\t\tif n % i == 0:\n",
    "\t\t\treturn False\n",
    "\treturn True\n",
    "\n",
    "def process_list(list_):\n",
    "\tfiltered_list = []\n",
    "\tfor num in list_:\n",
    "\t\tif num % 2 == 0:\n",
    "\t\t\tfiltered_list.append(num)\n",
    "    \n",
    "\tduplicate_list = []\n",
    "\tfor num in filtered_list:\n",
    "\t\tduplicate_list.append(num * 2)\n",
    "        \n",
    "\tsum = 0\n",
    "\tfor num in duplicate_list:\n",
    "\t\tsum += num\n",
    "\n",
    "\tprime = is_prime(sum)\n",
    "    \n",
    "\treturn sum, prime\n",
    "\n",
    "result, result_prime = process_list(list_)\n",
    "print(f\"Result: {result}, ¿Prime? {'Yes' if result_prime else 'No'}\")"
   ]
  },
  {
   "cell_type": "markdown",
   "id": "128d564e",
   "metadata": {},
   "source": [
    "Points to optimize:\n",
    "\n",
    "1. **Filter numbers**: The code goes through the original list to filter out even numbers. Consider a more efficient way to filter the list.\n",
    "2. **Duplication**: The list is traversed multiple times. Is there a way to do this more efficiently?\n",
    "3. **Summing**: The numbers in a list are summed through a loop. Python has built-in functions that can optimize this.\n",
    "4. **Function `is_prime`**: While this function is relatively efficient, investigate if there are ways to make it even faster.\n",
    "5. **Modularity**: Consider breaking the code into smaller functions, each focused on a specific task."
   ]
  },
  {
   "cell_type": "code",
   "execution_count": 7,
   "id": "f40e35d6",
   "metadata": {},
   "outputs": [],
   "source": [
    "# libraries to use\n",
    "import sympy\n",
    "\n",
    "# 5 modularity\n",
    "def get_even_numbers(input_list: 'list[int]') -> 'list[int]':\n",
    "\t\"\"\"\n",
    "\tReturns a new list containing just the even numbers from the input list.\n",
    "\n",
    "\tArgs:\n",
    "\t\tinput_list: The integer list to process.\n",
    "\n",
    "\tReturns:\n",
    "\t\tA new list containing only the even numbers.\n",
    "\t\"\"\"\n",
    "\n",
    "\treturn [num for num in input_list if num % 2 == 0]\n",
    "\n",
    "\n",
    "def duplicate_and_apply(input_list: 'list[int]', func)-> 'list[int]':\n",
    "    \"\"\"\n",
    "    Creates a duplicate of a list and applies a function to each element.\n",
    "\n",
    "    Args:\n",
    "        input_list: The list to duplicate and process.\n",
    "        func: The function to apply to each element.\n",
    "\n",
    "    Returns:\n",
    "        A new list with the function applied to each element.\n",
    "    \"\"\"\n",
    "    \n",
    "    return [func(item) for item in input_list]"
   ]
  },
  {
   "cell_type": "code",
   "execution_count": 8,
   "id": "fdcb0649",
   "metadata": {},
   "outputs": [
    {
     "name": "stdout",
     "output_type": "stream",
     "text": [
      "Even numbers:\n",
      "[2, 4, 6, 8, 10]\n",
      "\n",
      "List doubled:\n",
      "[4, 8, 12, 16, 20]\n",
      "\n",
      "Sum result:\n",
      "60\n",
      "\n",
      "Is the result prime:\n",
      "Is not prime\n"
     ]
    }
   ],
   "source": [
    "# get the even numbers\n",
    "even_result: 'list[int]' = get_even_numbers(input_list=list_)\n",
    "print('Even numbers:')\n",
    "print(even_result)\n",
    "\n",
    "# duplicate the list and double\n",
    "doubled_result = duplicate_and_apply(input_list=even_result, func=lambda x: x * 2)\n",
    "print('\\nList doubled:')\n",
    "print(doubled_result)\n",
    "\n",
    "# sum the elements\n",
    "sum_result: int = sum(doubled_result)\n",
    "print('\\nSum result:')\n",
    "print(sum_result)\n",
    "\n",
    "# check if a number is prime\n",
    "# investigating there is a function in the library \"sympy\" does this\n",
    "print('\\nIs the result prime:')\n",
    "print('Is prime' if sympy.isprime(sum_result) else 'Is not prime')"
   ]
  },
  {
   "attachments": {},
   "cell_type": "markdown",
   "id": "1af70806",
   "metadata": {},
   "source": [
    "Both exercises will help you improve your code performance optimization skills and give you a better understanding of how different data structures and programming techniques can affect the efficiency of your code."
   ]
  }
 ],
 "metadata": {
  "kernelspec": {
   "display_name": "ds_venv",
   "language": "python",
   "name": "python3"
  },
  "language_info": {
   "codemirror_mode": {
    "name": "ipython",
    "version": 3
   },
   "file_extension": ".py",
   "mimetype": "text/x-python",
   "name": "python",
   "nbconvert_exporter": "python",
   "pygments_lexer": "ipython3",
   "version": "3.12.9"
  }
 },
 "nbformat": 4,
 "nbformat_minor": 5
}
